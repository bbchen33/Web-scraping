{
  "nbformat": 4,
  "nbformat_minor": 0,
  "metadata": {
    "colab": {
      "name": "Untitled1.ipynb",
      "provenance": [],
      "include_colab_link": true
    },
    "kernelspec": {
      "name": "python3",
      "display_name": "Python 3"
    }
  },
  "cells": [
    {
      "cell_type": "markdown",
      "metadata": {
        "id": "view-in-github",
        "colab_type": "text"
      },
      "source": [
        "<a href=\"https://colab.research.google.com/github/bbchen33/Web-scraping/blob/master/KEGGpathways_categories.ipynb\" target=\"_parent\"><img src=\"https://colab.research.google.com/assets/colab-badge.svg\" alt=\"Open In Colab\"/></a>"
      ]
    },
    {
      "cell_type": "markdown",
      "metadata": {
        "id": "y3rPOF27IDll",
        "colab_type": "text"
      },
      "source": [
        "# Obtain KEGG categories and KEGG pathway IDs from a json file"
      ]
    },
    {
      "cell_type": "markdown",
      "metadata": {
        "id": "UBryiXAkHnGm",
        "colab_type": "text"
      },
      "source": [
        "https://www.kegg.jp/kegg-bin/get_htext?br08901\n",
        "Click \"Download json\""
      ]
    },
    {
      "cell_type": "code",
      "metadata": {
        "id": "42NzoTlKHzJs",
        "colab_type": "code",
        "colab": {
          "resources": {
            "http://localhost:8080/nbextensions/google.colab/files.js": {
              "data": "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",
              "ok": true,
              "headers": [
                [
                  "content-type",
                  "application/javascript"
                ]
              ],
              "status": 200,
              "status_text": ""
            }
          },
          "base_uri": "https://localhost:8080/",
          "height": 74
        },
        "outputId": "286ce3e8-7c68-405d-e11a-c8627aed2940"
      },
      "source": [
        "from google.colab import files\n",
        "file = files.upload()"
      ],
      "execution_count": 1,
      "outputs": [
        {
          "output_type": "display_data",
          "data": {
            "text/html": [
              "\n",
              "     <input type=\"file\" id=\"files-4c29231d-05b5-473d-adce-7cb29845e1fa\" name=\"files[]\" multiple disabled />\n",
              "     <output id=\"result-4c29231d-05b5-473d-adce-7cb29845e1fa\">\n",
              "      Upload widget is only available when the cell has been executed in the\n",
              "      current browser session. Please rerun this cell to enable.\n",
              "      </output>\n",
              "      <script src=\"/nbextensions/google.colab/files.js\"></script> "
            ],
            "text/plain": [
              "<IPython.core.display.HTML object>"
            ]
          },
          "metadata": {
            "tags": []
          }
        },
        {
          "output_type": "stream",
          "text": [
            "Saving br08901.json to br08901.json\n"
          ],
          "name": "stdout"
        }
      ]
    },
    {
      "cell_type": "code",
      "metadata": {
        "id": "j4XwI-a9G4ht",
        "colab_type": "code",
        "colab": {}
      },
      "source": [
        "import json\n",
        "with open('br08901.json') as json_file:\n",
        "  data = json.load(json_file)"
      ],
      "execution_count": 0,
      "outputs": []
    },
    {
      "cell_type": "markdown",
      "metadata": {
        "id": "Y0xvUw0NIby2",
        "colab_type": "text"
      },
      "source": [
        "Every layer can be called with the \"children\" key and each layer of children has a list of children. "
      ]
    },
    {
      "cell_type": "code",
      "metadata": {
        "id": "b49CiGDtH-QP",
        "colab_type": "code",
        "colab": {
          "base_uri": "https://localhost:8080/",
          "height": 194
        },
        "outputId": "980564a5-1c9b-4486-f0c1-3a9d85570760"
      },
      "source": [
        "data['children'][0]['children'][0]"
      ],
      "execution_count": 4,
      "outputs": [
        {
          "output_type": "execute_result",
          "data": {
            "text/plain": [
              "{'children': [{'name': '01100  Metabolic pathways'},\n",
              "  {'name': '01110  Biosynthesis of secondary metabolites'},\n",
              "  {'name': '01120  Microbial metabolism in diverse environments'},\n",
              "  {'name': '01130  Biosynthesis of antibiotics'},\n",
              "  {'name': '01200  Carbon metabolism'},\n",
              "  {'name': '01210  2-Oxocarboxylic acid metabolism'},\n",
              "  {'name': '01212  Fatty acid metabolism'},\n",
              "  {'name': '01230  Biosynthesis of amino acids'},\n",
              "  {'name': '01220  Degradation of aromatic compounds'}],\n",
              " 'name': 'Global and overview maps'}"
            ]
          },
          "metadata": {
            "tags": []
          },
          "execution_count": 4
        }
      ]
    },
    {
      "cell_type": "markdown",
      "metadata": {
        "id": "51DHfcv3JSBE",
        "colab_type": "text"
      },
      "source": [
        "\"Global and overview maps\" is a category that has children pathways such as \"01100 Metabolic pathways\". "
      ]
    },
    {
      "cell_type": "code",
      "metadata": {
        "id": "7aAmNaQ8Iz8Q",
        "colab_type": "code",
        "colab": {
          "base_uri": "https://localhost:8080/",
          "height": 1000
        },
        "outputId": "466246c1-f307-4f92-a7c3-bba867d963d3"
      },
      "source": [
        "data['children'][0]"
      ],
      "execution_count": 7,
      "outputs": [
        {
          "output_type": "execute_result",
          "data": {
            "text/plain": [
              "{'children': [{'children': [{'name': '01100  Metabolic pathways'},\n",
              "    {'name': '01110  Biosynthesis of secondary metabolites'},\n",
              "    {'name': '01120  Microbial metabolism in diverse environments'},\n",
              "    {'name': '01130  Biosynthesis of antibiotics'},\n",
              "    {'name': '01200  Carbon metabolism'},\n",
              "    {'name': '01210  2-Oxocarboxylic acid metabolism'},\n",
              "    {'name': '01212  Fatty acid metabolism'},\n",
              "    {'name': '01230  Biosynthesis of amino acids'},\n",
              "    {'name': '01220  Degradation of aromatic compounds'}],\n",
              "   'name': 'Global and overview maps'},\n",
              "  {'children': [{'name': '00010  Glycolysis / Gluconeogenesis'},\n",
              "    {'name': '00020  Citrate cycle (TCA cycle)'},\n",
              "    {'name': '00030  Pentose phosphate pathway'},\n",
              "    {'name': '00040  Pentose and glucuronate interconversions'},\n",
              "    {'name': '00051  Fructose and mannose metabolism'},\n",
              "    {'name': '00052  Galactose metabolism'},\n",
              "    {'name': '00053  Ascorbate and aldarate metabolism'},\n",
              "    {'name': '00500  Starch and sucrose metabolism'},\n",
              "    {'name': '00520  Amino sugar and nucleotide sugar metabolism'},\n",
              "    {'name': '00620  Pyruvate metabolism'},\n",
              "    {'name': '00630  Glyoxylate and dicarboxylate metabolism'},\n",
              "    {'name': '00640  Propanoate metabolism'},\n",
              "    {'name': '00650  Butanoate metabolism'},\n",
              "    {'name': '00660  C5-Branched dibasic acid metabolism'},\n",
              "    {'name': '00562  Inositol phosphate metabolism'}],\n",
              "   'name': 'Carbohydrate metabolism'},\n",
              "  {'children': [{'name': '00190  Oxidative phosphorylation'},\n",
              "    {'name': '00195  Photosynthesis'},\n",
              "    {'name': '00196  Photosynthesis - antenna proteins'},\n",
              "    {'name': '00710  Carbon fixation in photosynthetic organisms'},\n",
              "    {'name': '00720  Carbon fixation pathways in prokaryotes'},\n",
              "    {'name': '00680  Methane metabolism'},\n",
              "    {'name': '00910  Nitrogen metabolism'},\n",
              "    {'name': '00920  Sulfur metabolism'}],\n",
              "   'name': 'Energy metabolism'},\n",
              "  {'children': [{'name': '00061  Fatty acid biosynthesis'},\n",
              "    {'name': '00062  Fatty acid elongation'},\n",
              "    {'name': '00071  Fatty acid degradation'},\n",
              "    {'name': '00072  Synthesis and degradation of ketone bodies'},\n",
              "    {'name': '00073  Cutin, suberine and wax biosynthesis'},\n",
              "    {'name': '00100  Steroid biosynthesis'},\n",
              "    {'name': '00120  Primary bile acid biosynthesis'},\n",
              "    {'name': '00121  Secondary bile acid biosynthesis'},\n",
              "    {'name': '00140  Steroid hormone biosynthesis'},\n",
              "    {'name': '00561  Glycerolipid metabolism'},\n",
              "    {'name': '00564  Glycerophospholipid metabolism'},\n",
              "    {'name': '00565  Ether lipid metabolism'},\n",
              "    {'name': '00600  Sphingolipid metabolism'},\n",
              "    {'name': '00590  Arachidonic acid metabolism'},\n",
              "    {'name': '00591  Linoleic acid metabolism'},\n",
              "    {'name': '00592  alpha-Linolenic acid metabolism'},\n",
              "    {'name': '01040  Biosynthesis of unsaturated fatty acids'}],\n",
              "   'name': 'Lipid metabolism'},\n",
              "  {'children': [{'name': '00230  Purine metabolism'},\n",
              "    {'name': '00240  Pyrimidine metabolism'}],\n",
              "   'name': 'Nucleotide metabolism'},\n",
              "  {'children': [{'name': '00250  Alanine, aspartate and glutamate metabolism'},\n",
              "    {'name': '00260  Glycine, serine and threonine metabolism'},\n",
              "    {'name': '00270  Cysteine and methionine metabolism'},\n",
              "    {'name': '00280  Valine, leucine and isoleucine degradation'},\n",
              "    {'name': '00290  Valine, leucine and isoleucine biosynthesis'},\n",
              "    {'name': '00300  Lysine biosynthesis'},\n",
              "    {'name': '00310  Lysine degradation'},\n",
              "    {'name': '00220  Arginine biosynthesis'},\n",
              "    {'name': '00330  Arginine and proline metabolism'},\n",
              "    {'name': '00340  Histidine metabolism'},\n",
              "    {'name': '00350  Tyrosine metabolism'},\n",
              "    {'name': '00360  Phenylalanine metabolism'},\n",
              "    {'name': '00380  Tryptophan metabolism'},\n",
              "    {'name': '00400  Phenylalanine, tyrosine and tryptophan biosynthesis'}],\n",
              "   'name': 'Amino acid metabolism'},\n",
              "  {'children': [{'name': '00410  beta-Alanine metabolism'},\n",
              "    {'name': '00430  Taurine and hypotaurine metabolism'},\n",
              "    {'name': '00440  Phosphonate and phosphinate metabolism'},\n",
              "    {'name': '00450  Selenocompound metabolism'},\n",
              "    {'name': '00460  Cyanoamino acid metabolism'},\n",
              "    {'name': '00471  D-Glutamine and D-glutamate metabolism'},\n",
              "    {'name': '00472  D-Arginine and D-ornithine metabolism'},\n",
              "    {'name': '00473  D-Alanine metabolism'},\n",
              "    {'name': '00480  Glutathione metabolism'}],\n",
              "   'name': 'Metabolism of other amino acids'},\n",
              "  {'children': [{'name': '00510  N-Glycan biosynthesis'},\n",
              "    {'name': '00513  Various types of N-glycan biosynthesis'},\n",
              "    {'name': '00512  Mucin type O-glycan biosynthesis'},\n",
              "    {'name': '00515  Mannose type O-glycan biosynthesis'},\n",
              "    {'name': '00514  Other types of O-glycan biosynthesis'},\n",
              "    {'name': '00532  Glycosaminoglycan biosynthesis - chondroitin sulfate / dermatan sulfate'},\n",
              "    {'name': '00534  Glycosaminoglycan biosynthesis - heparan sulfate / heparin'},\n",
              "    {'name': '00533  Glycosaminoglycan biosynthesis - keratan sulfate'},\n",
              "    {'name': '00531  Glycosaminoglycan degradation'},\n",
              "    {'name': '00563  Glycosylphosphatidylinositol (GPI)-anchor biosynthesis'},\n",
              "    {'name': '00601  Glycosphingolipid biosynthesis - lacto and neolacto series'},\n",
              "    {'name': '00603  Glycosphingolipid biosynthesis - globo and isoglobo series'},\n",
              "    {'name': '00604  Glycosphingolipid biosynthesis - ganglio series'},\n",
              "    {'name': '00540  Lipopolysaccharide biosynthesis'},\n",
              "    {'name': '00550  Peptidoglycan biosynthesis'},\n",
              "    {'name': '00511  Other glycan degradation'},\n",
              "    {'name': '00571  Lipoarabinomannan (LAM) biosynthesis'},\n",
              "    {'name': '00572  Arabinogalactan biosynthesis - Mycobacterium'}],\n",
              "   'name': 'Glycan biosynthesis and metabolism'},\n",
              "  {'children': [{'name': '00730  Thiamine metabolism'},\n",
              "    {'name': '00740  Riboflavin metabolism'},\n",
              "    {'name': '00750  Vitamin B6 metabolism'},\n",
              "    {'name': '00760  Nicotinate and nicotinamide metabolism'},\n",
              "    {'name': '00770  Pantothenate and CoA biosynthesis'},\n",
              "    {'name': '00780  Biotin metabolism'},\n",
              "    {'name': '00785  Lipoic acid metabolism'},\n",
              "    {'name': '00790  Folate biosynthesis'},\n",
              "    {'name': '00670  One carbon pool by folate'},\n",
              "    {'name': '00830  Retinol metabolism'},\n",
              "    {'name': '00860  Porphyrin and chlorophyll metabolism'},\n",
              "    {'name': '00130  Ubiquinone and other terpenoid-quinone biosynthesis'}],\n",
              "   'name': 'Metabolism of cofactors and vitamins'},\n",
              "  {'children': [{'name': '00900  Terpenoid backbone biosynthesis'},\n",
              "    {'name': '00902  Monoterpenoid biosynthesis'},\n",
              "    {'name': '00909  Sesquiterpenoid and triterpenoid biosynthesis'},\n",
              "    {'name': '00904  Diterpenoid biosynthesis'},\n",
              "    {'name': '00906  Carotenoid biosynthesis'},\n",
              "    {'name': '00905  Brassinosteroid biosynthesis'},\n",
              "    {'name': '00981  Insect hormone biosynthesis'},\n",
              "    {'name': '00908  Zeatin biosynthesis'},\n",
              "    {'name': '00903  Limonene and pinene degradation'},\n",
              "    {'name': '00281  Geraniol degradation'},\n",
              "    {'name': '01052  Type I polyketide structures'},\n",
              "    {'name': '00522  Biosynthesis of 12-, 14- and 16-membered macrolides'},\n",
              "    {'name': '01051  Biosynthesis of ansamycins'},\n",
              "    {'name': '01059  Biosynthesis of enediyne antibiotics'},\n",
              "    {'name': '01056  Biosynthesis of type II polyketide backbone'},\n",
              "    {'name': '01057  Biosynthesis of type II polyketide products'},\n",
              "    {'name': '00253  Tetracycline biosynthesis'},\n",
              "    {'name': '00523  Polyketide sugar unit biosynthesis'},\n",
              "    {'name': '01054  Nonribosomal peptide structures'},\n",
              "    {'name': '01053  Biosynthesis of siderophore group nonribosomal peptides'},\n",
              "    {'name': '01055  Biosynthesis of vancomycin group antibiotics'}],\n",
              "   'name': 'Metabolism of terpenoids and polyketides'},\n",
              "  {'children': [{'name': '00940  Phenylpropanoid biosynthesis'},\n",
              "    {'name': '00945  Stilbenoid, diarylheptanoid and gingerol biosynthesis'},\n",
              "    {'name': '00941  Flavonoid biosynthesis'},\n",
              "    {'name': '00944  Flavone and flavonol biosynthesis'},\n",
              "    {'name': '00942  Anthocyanin biosynthesis'},\n",
              "    {'name': '00943  Isoflavonoid biosynthesis'},\n",
              "    {'name': '00901  Indole alkaloid biosynthesis'},\n",
              "    {'name': '00403  Indole diterpene alkaloid biosynthesis'},\n",
              "    {'name': '00950  Isoquinoline alkaloid biosynthesis'},\n",
              "    {'name': '00960  Tropane, piperidine and pyridine alkaloid biosynthesis'},\n",
              "    {'name': '01058  Acridone alkaloid biosynthesis'},\n",
              "    {'name': '00232  Caffeine metabolism'},\n",
              "    {'name': '00965  Betalain biosynthesis'},\n",
              "    {'name': '00966  Glucosinolate biosynthesis'},\n",
              "    {'name': '00402  Benzoxazinoid biosynthesis'},\n",
              "    {'name': '00311  Penicillin and cephalosporin biosynthesis'},\n",
              "    {'name': '00332  Carbapenem biosynthesis'},\n",
              "    {'name': '00261  Monobactam biosynthesis'},\n",
              "    {'name': '00331  Clavulanic acid biosynthesis'},\n",
              "    {'name': '00521  Streptomycin biosynthesis'},\n",
              "    {'name': '00524  Neomycin, kanamycin and gentamicin biosynthesis'},\n",
              "    {'name': '00525  Acarbose and validamycin biosynthesis'},\n",
              "    {'name': '00401  Novobiocin biosynthesis'},\n",
              "    {'name': '00404  Staurosporine biosynthesis'},\n",
              "    {'name': '00405  Phenazine biosynthesis'},\n",
              "    {'name': '00333  Prodigiosin biosynthesis'},\n",
              "    {'name': '00254  Aflatoxin biosynthesis'},\n",
              "    {'name': '00999  Biosynthesis of various secondary metabolites - part 1'},\n",
              "    {'name': '00998  Biosynthesis of various secondary metabolites - part 2'},\n",
              "    {'name': '00997  Biosynthesis of various secondary metabolites - part 3'}],\n",
              "   'name': 'Biosynthesis of other secondary metabolites'},\n",
              "  {'children': [{'name': '00362  Benzoate degradation'},\n",
              "    {'name': '00627  Aminobenzoate degradation'},\n",
              "    {'name': '00364  Fluorobenzoate degradation'},\n",
              "    {'name': '00625  Chloroalkane and chloroalkene degradation'},\n",
              "    {'name': '00361  Chlorocyclohexane and chlorobenzene degradation'},\n",
              "    {'name': '00623  Toluene degradation'},\n",
              "    {'name': '00622  Xylene degradation'},\n",
              "    {'name': '00633  Nitrotoluene degradation'},\n",
              "    {'name': '00642  Ethylbenzene degradation'},\n",
              "    {'name': '00643  Styrene degradation'},\n",
              "    {'name': '00791  Atrazine degradation'},\n",
              "    {'name': '00930  Caprolactam degradation'},\n",
              "    {'name': '00363  Bisphenol degradation'},\n",
              "    {'name': '00621  Dioxin degradation'},\n",
              "    {'name': '00626  Naphthalene degradation'},\n",
              "    {'name': '00624  Polycyclic aromatic hydrocarbon degradation'},\n",
              "    {'name': '00365  Furfural degradation'},\n",
              "    {'name': '00984  Steroid degradation'},\n",
              "    {'name': '00980  Metabolism of xenobiotics by cytochrome P450'},\n",
              "    {'name': '00982  Drug metabolism - cytochrome P450'},\n",
              "    {'name': '00983  Drug metabolism - other enzymes'}],\n",
              "   'name': 'Xenobiotics biodegradation and metabolism'},\n",
              "  {'children': [{'name': '01010  Overview of biosynthetic pathways'},\n",
              "    {'name': '01060  Biosynthesis of plant secondary metabolites'},\n",
              "    {'name': '01061  Biosynthesis of phenylpropanoids'},\n",
              "    {'name': '01062  Biosynthesis of terpenoids and steroids'},\n",
              "    {'name': '01063  Biosynthesis of alkaloids derived from shikimate pathway'},\n",
              "    {'name': '01064  Biosynthesis of alkaloids derived from ornithine, lysine and nicotinic acid'},\n",
              "    {'name': '01065  Biosynthesis of alkaloids derived from histidine and purine'},\n",
              "    {'name': '01066  Biosynthesis of alkaloids derived from terpenoid and polyketide'},\n",
              "    {'name': '01070  Biosynthesis of plant hormones'}],\n",
              "   'name': 'Chemical structure transformation maps'}],\n",
              " 'name': 'Metabolism'}"
            ]
          },
          "metadata": {
            "tags": []
          },
          "execution_count": 7
        }
      ]
    },
    {
      "cell_type": "markdown",
      "metadata": {
        "id": "Ly1QWjF1Jdzs",
        "colab_type": "text"
      },
      "source": [
        "\"Global and overview maps\" is under a bigger category called \"Metabolism\" as seen at the bottom. I'll called the \"Metabolism\" layer \"major category\" since it is the highest layer possible here."
      ]
    },
    {
      "cell_type": "code",
      "metadata": {
        "id": "0D6lB0rKJzH5",
        "colab_type": "code",
        "colab": {}
      },
      "source": [
        "len_major_category = len(data['children'])"
      ],
      "execution_count": 0,
      "outputs": []
    },
    {
      "cell_type": "code",
      "metadata": {
        "id": "GCPnKqUJJvBK",
        "colab_type": "code",
        "colab": {
          "base_uri": "https://localhost:8080/",
          "height": 34
        },
        "outputId": "b0c8e844-6fc1-4a4a-dc86-a5067a0ba0c8"
      },
      "source": [
        "len_major_category"
      ],
      "execution_count": 9,
      "outputs": [
        {
          "output_type": "execute_result",
          "data": {
            "text/plain": [
              "7"
            ]
          },
          "metadata": {
            "tags": []
          },
          "execution_count": 9
        }
      ]
    },
    {
      "cell_type": "markdown",
      "metadata": {
        "id": "oGVcVqpWKdkj",
        "colab_type": "text"
      },
      "source": [
        "Now I'll make a dictionary where the key is the \"major category name\" and assigne the values as the middle category names such as \"Global and overview maps\" or \"Carbohydrate metabolism\"."
      ]
    },
    {
      "cell_type": "code",
      "metadata": {
        "id": "OpChtuT4I2l3",
        "colab_type": "code",
        "colab": {}
      },
      "source": [
        "major_category_dict = {}\n",
        "for i in range(len_major_category):\n",
        "  major_category_dict[data['children'][i]['name']] = []"
      ],
      "execution_count": 0,
      "outputs": []
    },
    {
      "cell_type": "code",
      "metadata": {
        "id": "eTMZeXr8Kb6x",
        "colab_type": "code",
        "colab": {
          "base_uri": "https://localhost:8080/",
          "height": 141
        },
        "outputId": "1b4a5cf3-92ea-4a62-8d51-d7dff388c861"
      },
      "source": [
        "major_category_dict"
      ],
      "execution_count": 13,
      "outputs": [
        {
          "output_type": "execute_result",
          "data": {
            "text/plain": [
              "{'Cellular Processes': [],\n",
              " 'Drug Development': [],\n",
              " 'Environmental Information Processing': [],\n",
              " 'Genetic Information Processing': [],\n",
              " 'Human Diseases': [],\n",
              " 'Metabolism': [],\n",
              " 'Organismal Systems': []}"
            ]
          },
          "metadata": {
            "tags": []
          },
          "execution_count": 13
        }
      ]
    },
    {
      "cell_type": "markdown",
      "metadata": {
        "id": "Z0P4QQi1Lnj4",
        "colab_type": "text"
      },
      "source": [
        "I could try to figure the number of the middle categories under each major category by doing 2 for loops but a faster way is just finding a number that is definitely larger than the number of the middle categories and use \"try + except\" to do for loop."
      ]
    },
    {
      "cell_type": "code",
      "metadata": {
        "id": "n5RzVcTHK2v1",
        "colab_type": "code",
        "colab": {}
      },
      "source": [
        "for i in range(len_major_category):\n",
        "  for j in range(50):\n",
        "    try:\n",
        "      major_category_dict[data['children'][i]['name']].append(data['children'][i]['children'][j]['name'])\n",
        "    except:\n",
        "      pass"
      ],
      "execution_count": 0,
      "outputs": []
    },
    {
      "cell_type": "code",
      "metadata": {
        "id": "xkBpTQkILbMr",
        "colab_type": "code",
        "colab": {
          "base_uri": "https://localhost:8080/",
          "height": 247
        },
        "outputId": "a7757c42-01f9-47a7-896c-09bec336c80f"
      },
      "source": [
        "major_category_dict['Metabolism']"
      ],
      "execution_count": 17,
      "outputs": [
        {
          "output_type": "execute_result",
          "data": {
            "text/plain": [
              "['Global and overview maps',\n",
              " 'Carbohydrate metabolism',\n",
              " 'Energy metabolism',\n",
              " 'Lipid metabolism',\n",
              " 'Nucleotide metabolism',\n",
              " 'Amino acid metabolism',\n",
              " 'Metabolism of other amino acids',\n",
              " 'Glycan biosynthesis and metabolism',\n",
              " 'Metabolism of cofactors and vitamins',\n",
              " 'Metabolism of terpenoids and polyketides',\n",
              " 'Biosynthesis of other secondary metabolites',\n",
              " 'Xenobiotics biodegradation and metabolism',\n",
              " 'Chemical structure transformation maps']"
            ]
          },
          "metadata": {
            "tags": []
          },
          "execution_count": 17
        }
      ]
    },
    {
      "cell_type": "markdown",
      "metadata": {
        "id": "3ZnyX_E-Ny3w",
        "colab_type": "text"
      },
      "source": [
        "By comparing this with KEGG pathways on the website, I confirmed this dictionary is correct. To search for the middle categories under a specific major category, one can simply use the major category name as the key for the dictionary."
      ]
    },
    {
      "cell_type": "markdown",
      "metadata": {
        "id": "Zj02tscFPmdY",
        "colab_type": "text"
      },
      "source": [
        "Conversely, one can use the get_major_category function below to find its parent (major category) name."
      ]
    },
    {
      "cell_type": "code",
      "metadata": {
        "id": "N5xaGizUO5Ob",
        "colab_type": "code",
        "colab": {}
      },
      "source": [
        "def get_major_category(middle_category_name):\n",
        "  for key, value in major_category_dict.items():\n",
        "    if middle_category_name in value:\n",
        "      return key\n",
        "    return 'The category cannot be found.'"
      ],
      "execution_count": 0,
      "outputs": []
    },
    {
      "cell_type": "code",
      "metadata": {
        "id": "gbw__8tWPXQw",
        "colab_type": "code",
        "colab": {
          "base_uri": "https://localhost:8080/",
          "height": 34
        },
        "outputId": "cd49bf08-d6e1-419b-cdf7-a24515d5e2d9"
      },
      "source": [
        "get_major_category('Carbohydrate metabolism')"
      ],
      "execution_count": 21,
      "outputs": [
        {
          "output_type": "execute_result",
          "data": {
            "text/plain": [
              "'Metabolism'"
            ]
          },
          "metadata": {
            "tags": []
          },
          "execution_count": 21
        }
      ]
    },
    {
      "cell_type": "markdown",
      "metadata": {
        "id": "z82YhXpyOL3A",
        "colab_type": "text"
      },
      "source": [
        "What if you want to know what major category a specific pathway ('01100  Metabolic pathways') is under but you don't care about the middle category ('Global and overview maps')? Basically, is there a way to make a dictionary by skipping the middle layer? Yes."
      ]
    },
    {
      "cell_type": "code",
      "metadata": {
        "id": "w-kSO7ndQeFi",
        "colab_type": "code",
        "colab": {}
      },
      "source": [
        "major_category_to_pathway_dict = {}\n",
        "for i in range(len_major_category):\n",
        "  major_category_to_pathway_dict[data['children'][i]['name']] = []"
      ],
      "execution_count": 0,
      "outputs": []
    },
    {
      "cell_type": "code",
      "metadata": {
        "id": "L0dWgEXrQ3xb",
        "colab_type": "code",
        "colab": {
          "base_uri": "https://localhost:8080/",
          "height": 141
        },
        "outputId": "51579961-eee6-427e-c652-5b3d7638f969"
      },
      "source": [
        "major_category_to_pathway_dict"
      ],
      "execution_count": 33,
      "outputs": [
        {
          "output_type": "execute_result",
          "data": {
            "text/plain": [
              "{'Cellular Processes': [],\n",
              " 'Drug Development': [],\n",
              " 'Environmental Information Processing': [],\n",
              " 'Genetic Information Processing': [],\n",
              " 'Human Diseases': [],\n",
              " 'Metabolism': [],\n",
              " 'Organismal Systems': []}"
            ]
          },
          "metadata": {
            "tags": []
          },
          "execution_count": 33
        }
      ]
    },
    {
      "cell_type": "code",
      "metadata": {
        "id": "KTqvq6cJOAEX",
        "colab_type": "code",
        "colab": {}
      },
      "source": [
        "for i in range(len_major_category):\n",
        "  for j in range(50):\n",
        "    for k in range(50):\n",
        "      try:\n",
        "        major_category_to_pathway_dict[data['children'][i]['name']].append(data['children'][i]['children'][j]['children'][k]['name'])\n",
        "      except:\n",
        "        pass"
      ],
      "execution_count": 0,
      "outputs": []
    },
    {
      "cell_type": "code",
      "metadata": {
        "id": "pFf2nwgeQPlr",
        "colab_type": "code",
        "colab": {
          "base_uri": "https://localhost:8080/",
          "height": 194
        },
        "outputId": "74dd1f0e-5d9e-4ab0-8a32-ad54a914b0ee"
      },
      "source": [
        "major_category_to_pathway_dict['Metabolism'][:10]"
      ],
      "execution_count": 43,
      "outputs": [
        {
          "output_type": "execute_result",
          "data": {
            "text/plain": [
              "['01100  Metabolic pathways',\n",
              " '01110  Biosynthesis of secondary metabolites',\n",
              " '01120  Microbial metabolism in diverse environments',\n",
              " '01130  Biosynthesis of antibiotics',\n",
              " '01200  Carbon metabolism',\n",
              " '01210  2-Oxocarboxylic acid metabolism',\n",
              " '01212  Fatty acid metabolism',\n",
              " '01230  Biosynthesis of amino acids',\n",
              " '01220  Degradation of aromatic compounds',\n",
              " '00010  Glycolysis / Gluconeogenesis']"
            ]
          },
          "metadata": {
            "tags": []
          },
          "execution_count": 43
        }
      ]
    },
    {
      "cell_type": "code",
      "metadata": {
        "id": "qBwXqbrHSBFD",
        "colab_type": "code",
        "colab": {}
      },
      "source": [
        "def get_major_category_from_pathway(pathway_name):\n",
        "  for key, value in major_category_to_pathway_dict.items():\n",
        "    if pathway_name in value:\n",
        "      return key\n",
        "    return 'The pathway cannot be found.'"
      ],
      "execution_count": 0,
      "outputs": []
    },
    {
      "cell_type": "code",
      "metadata": {
        "id": "3dNh88MSSJql",
        "colab_type": "code",
        "colab": {
          "base_uri": "https://localhost:8080/",
          "height": 34
        },
        "outputId": "5aac904d-bf9b-4baf-9487-b01893f562f6"
      },
      "source": [
        "get_major_category_from_pathway('01100  Metabolic pathways')"
      ],
      "execution_count": 42,
      "outputs": [
        {
          "output_type": "execute_result",
          "data": {
            "text/plain": [
              "'Metabolism'"
            ]
          },
          "metadata": {
            "tags": []
          },
          "execution_count": 42
        }
      ]
    }
  ]
}