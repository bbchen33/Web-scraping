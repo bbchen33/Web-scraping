{
  "nbformat": 4,
  "nbformat_minor": 0,
  "metadata": {
    "colab": {
      "name": "Untitled1.ipynb",
      "provenance": [],
      "collapsed_sections": [],
      "include_colab_link": true
    },
    "kernelspec": {
      "name": "python3",
      "display_name": "Python 3"
    },
    "accelerator": "GPU"
  },
  "cells": [
    {
      "cell_type": "markdown",
      "metadata": {
        "id": "view-in-github",
        "colab_type": "text"
      },
      "source": [
        "<a href=\"https://colab.research.google.com/github/bbchen33/Web-scraping/blob/master/Scrape_yelp_data.ipynb\" target=\"_parent\"><img src=\"https://colab.research.google.com/assets/colab-badge.svg\" alt=\"Open In Colab\"/></a>"
      ]
    },
    {
      "cell_type": "markdown",
      "metadata": {
        "id": "KQDLbZ27T5f4",
        "colab_type": "text"
      },
      "source": [
        "# Yelp data API\n",
        "https://www.yelp.com/developers/documentation/v3/get_started"
      ]
    },
    {
      "cell_type": "code",
      "metadata": {
        "id": "OpnxXzX7kAgp",
        "colab_type": "code",
        "colab": {}
      },
      "source": [
        "import requests\n",
        "import json"
      ],
      "execution_count": 0,
      "outputs": []
    },
    {
      "cell_type": "code",
      "metadata": {
        "id": "mG71B9zjkLzA",
        "colab_type": "code",
        "colab": {}
      },
      "source": [
        "headers = {'Authorization':'Bearer %s' %yelp_api_key}"
      ],
      "execution_count": 0,
      "outputs": []
    },
    {
      "cell_type": "markdown",
      "metadata": {
        "id": "Cyosq9rtaxE8",
        "colab_type": "text"
      },
      "source": [
        "Goal: find all the restaurants that serve crabs in SF and LA. The following is a simple function to fetch restaurants by keywords and location. "
      ]
    },
    {
      "cell_type": "code",
      "metadata": {
        "id": "divjZ25la49c",
        "colab_type": "code",
        "colab": {}
      },
      "source": [
        "def find_restaurants(key_word, location):\n",
        "  restaurant_list = []\n",
        "  headers = {'Authorization':'Bearer %s' %yelp_api_key}\n",
        "  offset_value = 0\n",
        "  url = 'https://api.yelp.com/v3/businesses/search'\n",
        "  while 1:\n",
        "    params = {'term':key_word, \n",
        "              'location':location,\n",
        "              'limit': 50, \n",
        "              'offset': offset_value}\n",
        "    request = requests.get(url, params = params, headers = headers)\n",
        "    restaurant_list += json.loads(request.text)['businesses']\n",
        "    offset_value += 50\n",
        "    if len(json.loads(request.text)['businesses']) < 50:\n",
        "      break\n",
        "  return restaurant_list"
      ],
      "execution_count": 0,
      "outputs": []
    },
    {
      "cell_type": "code",
      "metadata": {
        "id": "HUDvasj_oRJj",
        "colab_type": "code",
        "colab": {}
      },
      "source": [
        "data = find_restaurants('crab', 'Los Angeles San Francisco')"
      ],
      "execution_count": 0,
      "outputs": []
    },
    {
      "cell_type": "markdown",
      "metadata": {
        "id": "WS7l_iWXtPn8",
        "colab_type": "text"
      },
      "source": [
        "Below is a class to make several functions to search restaurant data obtained from the Yelp API."
      ]
    },
    {
      "cell_type": "code",
      "metadata": {
        "id": "Jo17CXheo7sf",
        "colab_type": "code",
        "colab": {}
      },
      "source": [
        "class Restaurant_data:\n",
        "  def __init__(self, data):\n",
        "    self.data = data\n",
        "    self.name = [data[x]['alias'] for x in range(len(data))]    \n",
        "  def restaurant_count(self):  \n",
        "    return len(self.name) \n",
        "\n",
        "  def restaurant_rating(self, restaurant_name):\n",
        "    restaurant_index = rest_data.name.index(restaurant_name)\n",
        "    return self.data[restaurant_index]['rating']\n",
        "  def __str__(self):\n",
        "    return 'restaurant data'"
      ],
      "execution_count": 0,
      "outputs": []
    },
    {
      "cell_type": "code",
      "metadata": {
        "id": "cxp8T8vRpjHm",
        "colab_type": "code",
        "colab": {}
      },
      "source": [
        "rest_data = Restaurant_data(data)"
      ],
      "execution_count": 0,
      "outputs": []
    },
    {
      "cell_type": "code",
      "metadata": {
        "id": "DOBJQ8njdVs7",
        "colab_type": "code",
        "colab": {
          "base_uri": "https://localhost:8080/",
          "height": 34
        },
        "outputId": "6aabaa49-662e-45ed-f02d-c483efc6b0a7"
      },
      "source": [
        "rest_data.restaurant_count()"
      ],
      "execution_count": 8,
      "outputs": [
        {
          "output_type": "execute_result",
          "data": {
            "text/plain": [
              "999"
            ]
          },
          "metadata": {
            "tags": []
          },
          "execution_count": 8
        }
      ]
    },
    {
      "cell_type": "markdown",
      "metadata": {
        "id": "DmvxmWv4uVhR",
        "colab_type": "text"
      },
      "source": [
        "I can use len(data) to check if the number of the restaurant is the same as above."
      ]
    },
    {
      "cell_type": "code",
      "metadata": {
        "id": "7bPPjrv1tg-E",
        "colab_type": "code",
        "colab": {
          "base_uri": "https://localhost:8080/",
          "height": 34
        },
        "outputId": "e2e0c5d7-4061-4fb0-c60d-fd223b90059c"
      },
      "source": [
        "len(data)"
      ],
      "execution_count": 9,
      "outputs": [
        {
          "output_type": "execute_result",
          "data": {
            "text/plain": [
              "999"
            ]
          },
          "metadata": {
            "tags": []
          },
          "execution_count": 9
        }
      ]
    },
    {
      "cell_type": "code",
      "metadata": {
        "id": "zyPYRhdNsyCJ",
        "colab_type": "code",
        "colab": {
          "base_uri": "https://localhost:8080/",
          "height": 34
        },
        "outputId": "966847c3-2ab8-425c-c322-11fdfbd6bbe1"
      },
      "source": [
        "rest_data.restaurant_rating('the-wood-los-angeles')"
      ],
      "execution_count": 10,
      "outputs": [
        {
          "output_type": "execute_result",
          "data": {
            "text/plain": [
              "3.5"
            ]
          },
          "metadata": {
            "tags": []
          },
          "execution_count": 10
        }
      ]
    },
    {
      "cell_type": "markdown",
      "metadata": {
        "id": "rIfkRWsqtr0n",
        "colab_type": "text"
      },
      "source": [
        "The current class method only allows finding restaurant and its rating with exactly the same name as listed in the Yelp API. Ideally, the function should be able to accept similar words to find the restaurant of interest."
      ]
    }
  ]
}