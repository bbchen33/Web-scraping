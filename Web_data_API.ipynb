{
  "nbformat": 4,
  "nbformat_minor": 0,
  "metadata": {
    "colab": {
      "name": "Untitled1.ipynb",
      "provenance": [],
      "include_colab_link": true
    },
    "kernelspec": {
      "name": "python3",
      "display_name": "Python 3"
    },
    "accelerator": "GPU"
  },
  "cells": [
    {
      "cell_type": "markdown",
      "metadata": {
        "id": "view-in-github",
        "colab_type": "text"
      },
      "source": [
        "<a href=\"https://colab.research.google.com/github/bbchen33/Web-scraping/blob/master/Web_data_API.ipynb\" target=\"_parent\"><img src=\"https://colab.research.google.com/assets/colab-badge.svg\" alt=\"Open In Colab\"/></a>"
      ]
    },
    {
      "cell_type": "markdown",
      "metadata": {
        "id": "oPo4m2SJeSJ6",
        "colab_type": "text"
      },
      "source": [
        "# Youtube data API\n",
        "https://developers.google.com/youtube/v3/getting-started"
      ]
    },
    {
      "cell_type": "code",
      "metadata": {
        "id": "hfYJFCUjbWzC",
        "colab_type": "code",
        "colab": {
          "base_uri": "https://localhost:8080/",
          "height": 214
        },
        "outputId": "628ba5dd-311e-4b21-b723-37961f65ab30"
      },
      "source": [
        "!pip install google-api-python-client"
      ],
      "execution_count": 1,
      "outputs": [
        {
          "output_type": "stream",
          "text": [
            "Requirement already satisfied: google-api-python-client in /usr/local/lib/python3.6/dist-packages (1.7.11)\n",
            "Requirement already satisfied: google-auth>=1.4.1 in /usr/local/lib/python3.6/dist-packages (from google-api-python-client) (1.4.2)\n",
            "Requirement already satisfied: uritemplate<4dev,>=3.0.0 in /usr/local/lib/python3.6/dist-packages (from google-api-python-client) (3.0.0)\n",
            "Requirement already satisfied: google-auth-httplib2>=0.0.3 in /usr/local/lib/python3.6/dist-packages (from google-api-python-client) (0.0.3)\n",
            "Requirement already satisfied: httplib2<1dev,>=0.9.2 in /usr/local/lib/python3.6/dist-packages (from google-api-python-client) (0.11.3)\n",
            "Requirement already satisfied: six<2dev,>=1.6.1 in /usr/local/lib/python3.6/dist-packages (from google-api-python-client) (1.12.0)\n",
            "Requirement already satisfied: cachetools>=2.0.0 in /usr/local/lib/python3.6/dist-packages (from google-auth>=1.4.1->google-api-python-client) (3.1.1)\n",
            "Requirement already satisfied: pyasn1-modules>=0.2.1 in /usr/local/lib/python3.6/dist-packages (from google-auth>=1.4.1->google-api-python-client) (0.2.7)\n",
            "Requirement already satisfied: rsa>=3.1.4 in /usr/local/lib/python3.6/dist-packages (from google-auth>=1.4.1->google-api-python-client) (4.0)\n",
            "Requirement already satisfied: pyasn1<0.5.0,>=0.4.6 in /usr/local/lib/python3.6/dist-packages (from pyasn1-modules>=0.2.1->google-auth>=1.4.1->google-api-python-client) (0.4.7)\n"
          ],
          "name": "stdout"
        }
      ]
    },
    {
      "cell_type": "code",
      "metadata": {
        "id": "208MK1c8bhqu",
        "colab_type": "code",
        "colab": {}
      },
      "source": [
        "from googleapiclient.discovery import build"
      ],
      "execution_count": 0,
      "outputs": []
    },
    {
      "cell_type": "code",
      "metadata": {
        "id": "lo-QH7qUboAG",
        "colab_type": "code",
        "colab": {}
      },
      "source": [
        "youtube = build('youtube', 'v3', developerKey = api_key)"
      ],
      "execution_count": 0,
      "outputs": []
    },
    {
      "cell_type": "code",
      "metadata": {
        "id": "bV5vvvYxbznD",
        "colab_type": "code",
        "colab": {
          "base_uri": "https://localhost:8080/",
          "height": 34
        },
        "outputId": "8cf51caa-00b9-449e-c294-373c9a19c894"
      },
      "source": [
        "youtube"
      ],
      "execution_count": 6,
      "outputs": [
        {
          "output_type": "execute_result",
          "data": {
            "text/plain": [
              "<googleapiclient.discovery.Resource at 0x7f2993ecd9e8>"
            ]
          },
          "metadata": {
            "tags": []
          },
          "execution_count": 6
        }
      ]
    },
    {
      "cell_type": "markdown",
      "metadata": {
        "id": "i9YhzkvQdGhD",
        "colab_type": "text"
      },
      "source": [
        "https://developers.google.com/youtube/v3/docs/search/list\n",
        "Youtube data API site actually provides instructions and sample codes using \"Try this API!\" on the right panel to use the API."
      ]
    },
    {
      "cell_type": "markdown",
      "metadata": {
        "id": "Pmj257UydufS",
        "colab_type": "text"
      },
      "source": [
        "'q' is query keyword and 'maxResults' is number of results I ask for. "
      ]
    },
    {
      "cell_type": "code",
      "metadata": {
        "id": "MENvp-yJb2eO",
        "colab_type": "code",
        "colab": {}
      },
      "source": [
        "request = youtube.search().list(\n",
        "    part=\"snippet\",\n",
        "    maxResults=25,\n",
        "    q=\"Frozen\"\n",
        ").execute()"
      ],
      "execution_count": 0,
      "outputs": []
    },
    {
      "cell_type": "markdown",
      "metadata": {
        "id": "rGLyOgA6d_tb",
        "colab_type": "text"
      },
      "source": [
        "'items' have all the queries so below is the 1st query. "
      ]
    },
    {
      "cell_type": "code",
      "metadata": {
        "id": "LSBATBmqddoS",
        "colab_type": "code",
        "colab": {
          "base_uri": "https://localhost:8080/",
          "height": 356
        },
        "outputId": "3f3228ce-dca4-4c2d-9184-e650ca801420"
      },
      "source": [
        "request['items'][0]"
      ],
      "execution_count": 13,
      "outputs": [
        {
          "output_type": "execute_result",
          "data": {
            "text/plain": [
              "{'etag': '\"j6xRRd8dTPVVptg711_CSPADRfg/h8LZuGuFfWtMB4YNqJJna2Q4d7o\"',\n",
              " 'id': {'kind': 'youtube#video', 'videoId': 'L0MK7qz13bU'},\n",
              " 'kind': 'youtube#searchResult',\n",
              " 'snippet': {'channelId': 'UCQphRgAhj5UxktrQNP3WF5g',\n",
              "  'channelTitle': 'Disney UK',\n",
              "  'description': \"Sing-along with Idina Menzel in this full sequence from Disney's Frozen. Subscribe to Disney UK: http://bit.ly/subscribe-to-disney Follow us on Twitter: ...\",\n",
              "  'liveBroadcastContent': 'none',\n",
              "  'publishedAt': '2014-01-30T17:16:06.000Z',\n",
              "  'thumbnails': {'default': {'height': 90,\n",
              "    'url': 'https://i.ytimg.com/vi/L0MK7qz13bU/default.jpg',\n",
              "    'width': 120},\n",
              "   'high': {'height': 360,\n",
              "    'url': 'https://i.ytimg.com/vi/L0MK7qz13bU/hqdefault.jpg',\n",
              "    'width': 480},\n",
              "   'medium': {'height': 180,\n",
              "    'url': 'https://i.ytimg.com/vi/L0MK7qz13bU/mqdefault.jpg',\n",
              "    'width': 320}},\n",
              "  'title': 'FROZEN | Let It Go Sing-along | Official Disney UK'}}"
            ]
          },
          "metadata": {
            "tags": []
          },
          "execution_count": 13
        }
      ]
    },
    {
      "cell_type": "markdown",
      "metadata": {
        "id": "KQDLbZ27T5f4",
        "colab_type": "text"
      },
      "source": [
        "# Yelp data API\n",
        "https://www.yelp.com/developers/documentation/v3/get_started"
      ]
    },
    {
      "cell_type": "code",
      "metadata": {
        "id": "OpnxXzX7kAgp",
        "colab_type": "code",
        "colab": {}
      },
      "source": [
        "import requests\n",
        "import json"
      ],
      "execution_count": 0,
      "outputs": []
    },
    {
      "cell_type": "code",
      "metadata": {
        "id": "mG71B9zjkLzA",
        "colab_type": "code",
        "colab": {}
      },
      "source": [
        "headers = {'Authorization':'Bearer %s' %yelp_api_key}"
      ],
      "execution_count": 0,
      "outputs": []
    },
    {
      "cell_type": "code",
      "metadata": {
        "id": "5K0Y6RSZkM8z",
        "colab_type": "code",
        "colab": {}
      },
      "source": [
        "url = 'https://api.yelp.com/v3/businesses/search'\n",
        "\n",
        "params = {'term':'crab', 'location':'San Francisco'}"
      ],
      "execution_count": 0,
      "outputs": []
    },
    {
      "cell_type": "code",
      "metadata": {
        "id": "RX3xSqg3luZb",
        "colab_type": "code",
        "colab": {}
      },
      "source": [
        "request = requests.get(url, params = params, headers = headers)"
      ],
      "execution_count": 0,
      "outputs": []
    },
    {
      "cell_type": "code",
      "metadata": {
        "id": "9efEZVlZl4CE",
        "colab_type": "code",
        "colab": {
          "base_uri": "https://localhost:8080/",
          "height": 34
        },
        "outputId": "b77c85bb-cd40-4858-c062-f1627b1281a3"
      },
      "source": [
        "request.status_code"
      ],
      "execution_count": 25,
      "outputs": [
        {
          "output_type": "execute_result",
          "data": {
            "text/plain": [
              "200"
            ]
          },
          "metadata": {
            "tags": []
          },
          "execution_count": 25
        }
      ]
    },
    {
      "cell_type": "markdown",
      "metadata": {
        "id": "6ydDPI0-mZCt",
        "colab_type": "text"
      },
      "source": [
        "Below shows 1 example of the queries found."
      ]
    },
    {
      "cell_type": "code",
      "metadata": {
        "id": "4Msq5DoNl7KZ",
        "colab_type": "code",
        "colab": {
          "base_uri": "https://localhost:8080/",
          "height": 463
        },
        "outputId": "8e4bee02-c704-4fe7-ffa7-92f037a56733"
      },
      "source": [
        "json.loads(request.text)['businesses'][0]"
      ],
      "execution_count": 28,
      "outputs": [
        {
          "output_type": "execute_result",
          "data": {
            "text/plain": [
              "{'alias': 'golden-crab-house-san-francisco',\n",
              " 'categories': [{'alias': 'seafood', 'title': 'Seafood'},\n",
              "  {'alias': 'vietnamese', 'title': 'Vietnamese'},\n",
              "  {'alias': 'asianfusion', 'title': 'Asian Fusion'}],\n",
              " 'coordinates': {'latitude': 37.76368, 'longitude': -122.47777},\n",
              " 'display_phone': '(415) 702-6685',\n",
              " 'distance': 3648.3712766969606,\n",
              " 'id': 'VjXSJdgy7wnlbMqwRWEgqQ',\n",
              " 'image_url': 'https://s3-media2.fl.yelpcdn.com/bphoto/GAaFyymuAjAXP8n7vIyMjA/o.jpg',\n",
              " 'is_closed': False,\n",
              " 'location': {'address1': '1830 Irving St',\n",
              "  'address2': '',\n",
              "  'address3': None,\n",
              "  'city': 'San Francisco',\n",
              "  'country': 'US',\n",
              "  'display_address': ['1830 Irving St', 'San Francisco, CA 94122'],\n",
              "  'state': 'CA',\n",
              "  'zip_code': '94122'},\n",
              " 'name': 'Golden Crab House',\n",
              " 'phone': '+14157026685',\n",
              " 'rating': 4.0,\n",
              " 'review_count': 175,\n",
              " 'transactions': ['restaurant_reservation', 'delivery', 'pickup'],\n",
              " 'url': 'https://www.yelp.com/biz/golden-crab-house-san-francisco?adjust_creative=_11DpiBphzMmXOCo2pGJyw&utm_campaign=yelp_api_v3&utm_medium=api_v3_business_search&utm_source=_11DpiBphzMmXOCo2pGJyw'}"
            ]
          },
          "metadata": {
            "tags": []
          },
          "execution_count": 28
        }
      ]
    },
    {
      "cell_type": "markdown",
      "metadata": {
        "id": "Jex9oX3IWN2u",
        "colab_type": "text"
      },
      "source": [
        "# Zillow data API\n",
        "https://www.zillow.com/howto/api/APIOverview.htm"
      ]
    },
    {
      "cell_type": "markdown",
      "metadata": {
        "id": "JSRCQGWom4To",
        "colab_type": "text"
      },
      "source": [
        "The following contents are provided by Zillow API\n",
        "\n",
        "![alt text](https://www.zillow.com/widgets/GetVersionedResource.htm?path=/static/logos/Zillowlogo_200x50.gif)\n",
        "\n"
      ]
    },
    {
      "cell_type": "code",
      "metadata": {
        "id": "_awaUtPbm3rs",
        "colab_type": "code",
        "colab": {}
      },
      "source": [
        "zillow_url = 'http://www.zillow.com/webservice/GetSearchResults.htm'"
      ],
      "execution_count": 0,
      "outputs": []
    },
    {
      "cell_type": "code",
      "metadata": {
        "id": "_m1Y_mK3qRTl",
        "colab_type": "code",
        "colab": {}
      },
      "source": [
        "queryString = {'address':'1444 Barry Ave', \n",
        "               'citystatezip':'90025',\n",
        "               'zws-id': zillow_api_key,\n",
        "               'rentzestimate': True}"
      ],
      "execution_count": 0,
      "outputs": []
    },
    {
      "cell_type": "code",
      "metadata": {
        "id": "6i2g90tEtl_O",
        "colab_type": "code",
        "colab": {}
      },
      "source": [
        "request = requests.get(zillow_url, params = queryString)"
      ],
      "execution_count": 0,
      "outputs": []
    },
    {
      "cell_type": "code",
      "metadata": {
        "id": "b5k2Mg7ctpsQ",
        "colab_type": "code",
        "colab": {
          "base_uri": "https://localhost:8080/",
          "height": 34
        },
        "outputId": "4843dc73-cc16-4f7c-849e-366ea11d9a50"
      },
      "source": [
        "request.status_code"
      ],
      "execution_count": 7,
      "outputs": [
        {
          "output_type": "execute_result",
          "data": {
            "text/plain": [
              "200"
            ]
          },
          "metadata": {
            "tags": []
          },
          "execution_count": 7
        }
      ]
    },
    {
      "cell_type": "code",
      "metadata": {
        "id": "TxSnkmn81n8r",
        "colab_type": "code",
        "colab": {
          "base_uri": "https://localhost:8080/",
          "height": 54
        },
        "outputId": "d1d1947d-bdcd-4f65-ca85-cf10da5659d6"
      },
      "source": [
        "request.content"
      ],
      "execution_count": 18,
      "outputs": [
        {
          "output_type": "execute_result",
          "data": {
            "text/plain": [
              "b'<?xml version=\"1.0\" encoding=\"utf-8\"?><SearchResults:searchresults xsi:schemaLocation=\"http://www.zillow.com/static/xsd/SearchResults.xsd http://www.zillowstatic.com/vstatic/80d5e73/static/xsd/SearchResults.xsd\" xmlns:xsi=\"http://www.w3.org/2001/XMLSchema-instance\" xmlns:SearchResults=\"http://www.zillow.com/static/xsd/SearchResults.xsd\"><request><address>1444 Barry Ave</address><citystatezip>90025</citystatezip></request><message><text>Request successfully processed</text><code>0</code></message><response><results><result><zpid>2083269075</zpid><links><homedetails>http://www.zillow.com/homedetails/1444-Barry-Ave-Los-Angeles-CA-90025/2083269075_zpid/</homedetails><mapthishome>http://www.zillow.com/homes/2083269075_zpid/</mapthishome><comparables>http://www.zillow.com/homes/comps/2083269075_zpid/</comparables></links><address><street>1444 Barry Ave</street><zipcode>90025</zipcode><city>Los Angeles</city><state>CA</state><latitude>34.045759</latitude><longitude>-118.455925</longitude></address><zestimate><amount currency=\"USD\">520280</amount><last-updated>11/29/2019</last-updated><oneWeekChange deprecated=\"true\"></oneWeekChange><valueChange></valueChange><valuationRange><low currency=\"USD\">442238</low><high currency=\"USD\">572308</high></valuationRange><percentile>0</percentile></zestimate><localRealEstate><region name=\"Sawtelle\" id=\"117954\" type=\"neighborhood\"><zindexValue>849,300</zindexValue><links><overview>http://www.zillow.com/local-info/CA-Los-Angeles/Sawtelle/r_117954/</overview><forSaleByOwner>http://www.zillow.com/sawtelle-los-angeles-ca/fsbo/</forSaleByOwner><forSale>http://www.zillow.com/sawtelle-los-angeles-ca/</forSale></links></region></localRealEstate></result></results></response></SearchResults:searchresults><!-- H:003  T:35ms  S:865  R:Sat Nov 30 18:43:30 PST 2019  B:5.0.63330-master.744a605~delivery_ready.0f68721 -->'"
            ]
          },
          "metadata": {
            "tags": []
          },
          "execution_count": 18
        }
      ]
    },
    {
      "cell_type": "markdown",
      "metadata": {
        "id": "XhrnHoN-T-uy",
        "colab_type": "text"
      },
      "source": [
        "The query is in the xml format. It requires special handling with ElementTree library."
      ]
    },
    {
      "cell_type": "code",
      "metadata": {
        "id": "C1YjIM522Gvm",
        "colab_type": "code",
        "colab": {}
      },
      "source": [
        "import xml.etree.ElementTree as ET"
      ],
      "execution_count": 0,
      "outputs": []
    },
    {
      "cell_type": "code",
      "metadata": {
        "id": "IkNA7twX2bWH",
        "colab_type": "code",
        "colab": {}
      },
      "source": [
        "root = ET.fromstring(request.content)"
      ],
      "execution_count": 0,
      "outputs": []
    },
    {
      "cell_type": "code",
      "metadata": {
        "id": "C27S1wB82gy0",
        "colab_type": "code",
        "colab": {
          "base_uri": "https://localhost:8080/",
          "height": 712
        },
        "outputId": "cefd4093-8dab-4fd6-c00b-cb239dfa556e"
      },
      "source": [
        "for child in root.iter('*'):\n",
        "  print('tag:', child.tag, '\\tattrib:', child.attrib)"
      ],
      "execution_count": 20,
      "outputs": [
        {
          "output_type": "stream",
          "text": [
            "tag: {http://www.zillow.com/static/xsd/SearchResults.xsd}searchresults \tattrib: {'{http://www.w3.org/2001/XMLSchema-instance}schemaLocation': 'http://www.zillow.com/static/xsd/SearchResults.xsd http://www.zillowstatic.com/vstatic/80d5e73/static/xsd/SearchResults.xsd'}\n",
            "tag: request \tattrib: {}\n",
            "tag: address \tattrib: {}\n",
            "tag: citystatezip \tattrib: {}\n",
            "tag: message \tattrib: {}\n",
            "tag: text \tattrib: {}\n",
            "tag: code \tattrib: {}\n",
            "tag: response \tattrib: {}\n",
            "tag: results \tattrib: {}\n",
            "tag: result \tattrib: {}\n",
            "tag: zpid \tattrib: {}\n",
            "tag: links \tattrib: {}\n",
            "tag: homedetails \tattrib: {}\n",
            "tag: mapthishome \tattrib: {}\n",
            "tag: comparables \tattrib: {}\n",
            "tag: address \tattrib: {}\n",
            "tag: street \tattrib: {}\n",
            "tag: zipcode \tattrib: {}\n",
            "tag: city \tattrib: {}\n",
            "tag: state \tattrib: {}\n",
            "tag: latitude \tattrib: {}\n",
            "tag: longitude \tattrib: {}\n",
            "tag: zestimate \tattrib: {}\n",
            "tag: amount \tattrib: {'currency': 'USD'}\n",
            "tag: last-updated \tattrib: {}\n",
            "tag: oneWeekChange \tattrib: {'deprecated': 'true'}\n",
            "tag: valueChange \tattrib: {}\n",
            "tag: valuationRange \tattrib: {}\n",
            "tag: low \tattrib: {'currency': 'USD'}\n",
            "tag: high \tattrib: {'currency': 'USD'}\n",
            "tag: percentile \tattrib: {}\n",
            "tag: localRealEstate \tattrib: {}\n",
            "tag: region \tattrib: {'name': 'Sawtelle', 'id': '117954', 'type': 'neighborhood'}\n",
            "tag: zindexValue \tattrib: {}\n",
            "tag: links \tattrib: {}\n",
            "tag: overview \tattrib: {}\n",
            "tag: forSaleByOwner \tattrib: {}\n",
            "tag: forSale \tattrib: {}\n"
          ],
          "name": "stdout"
        }
      ]
    },
    {
      "cell_type": "code",
      "metadata": {
        "id": "3baUh4hZ2pjo",
        "colab_type": "code",
        "colab": {
          "base_uri": "https://localhost:8080/",
          "height": 34
        },
        "outputId": "c438abc4-c645-45fc-bb95-d055b3e334df"
      },
      "source": [
        "for child in root.iter('region'):\n",
        "  print(child.attrib)"
      ],
      "execution_count": 21,
      "outputs": [
        {
          "output_type": "stream",
          "text": [
            "{'name': 'Sawtelle', 'id': '117954', 'type': 'neighborhood'}\n"
          ],
          "name": "stdout"
        }
      ]
    }
  ]
}